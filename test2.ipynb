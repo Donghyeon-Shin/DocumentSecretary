{
 "cells": [
  {
   "cell_type": "code",
   "execution_count": 18,
   "metadata": {},
   "outputs": [],
   "source": [
    "import os\n",
    "\n",
    "os.environ[\"OPENAI_MODEL_NAME\"] = \"gpt-4o-mini\""
   ]
  },
  {
   "cell_type": "code",
   "execution_count": 19,
   "metadata": {},
   "outputs": [],
   "source": [
    "from crewai import Agent\n",
    "from crewai_tools import VisionTool, FileReadTool\n",
    "\n",
    "\n",
    "class Agents:\n",
    "    def imgExtracter(self):\n",
    "        return Agent(\n",
    "            role=\"imgExtracter\",\n",
    "            goal=\"Extract the image files inside {img_path} path. and Make text file containing the contents of the image \",\n",
    "            backstory=\"You are fluent in Korean, and You have a good ability to read images and convert them into text.\",\n",
    "            allow_delegation=False,\n",
    "            verbose=True,\n",
    "            tools=[\n",
    "                VisionTool(),\n",
    "            ],\n",
    "        )\n"
   ]
  },
  {
   "cell_type": "code",
   "execution_count": 20,
   "metadata": {},
   "outputs": [],
   "source": [
    "from crewai import Task\n",
    "\n",
    "\n",
    "class Tasks:\n",
    "    def imgExtract(self, agent):\n",
    "        return Task(\n",
    "            description=\"Read all the img files in that {img_path} and Extract them in text.\",\n",
    "            expected_output=\"Your final answer MUST be contents of the image. Don't summarize the contents of the image, JUST print it out as it is\",\n",
    "            agent=agent,\n",
    "            output_file=\"ImgExtractContent.md\",\n",
    "        )\n"
   ]
  },
  {
   "cell_type": "code",
   "execution_count": 23,
   "metadata": {},
   "outputs": [
    {
     "name": "stderr",
     "output_type": "stream",
     "text": [
      "2025-01-07 01:05:25,148 - 6104 - __init__.py-__init__:537 - WARNING: Overriding of current TracerProvider is not allowed\n"
     ]
    },
    {
     "name": "stdout",
     "output_type": "stream",
     "text": [
      "\u001b[1m\u001b[95m# Agent:\u001b[00m \u001b[1m\u001b[92mimgExtracter\u001b[00m\n",
      "\u001b[95m## Task:\u001b[00m \u001b[92mRead all the img files in that ./Algorithm/Reference/Array Reference/MITM Recursion Ref/MITM Recursion.png and Extract them in text.\u001b[00m\n",
      "\n",
      "\n",
      "\u001b[1m\u001b[95m# Agent:\u001b[00m \u001b[1m\u001b[92mimgExtracter\u001b[00m\n",
      "\u001b[95m## Thought:\u001b[00m \u001b[92mI need to extract the text from the image located at the specified path. I will utilize the Vision Tool to read the contents of the image.\u001b[00m\n",
      "\u001b[95m## Using tool:\u001b[00m \u001b[92mVision Tool\u001b[00m\n",
      "\u001b[95m## Tool Input:\u001b[00m \u001b[92m\n",
      "\"{\\\"image_path_url\\\": \\\"./Algorithm/Reference/Array Reference/MITM Recursion Ref/MITM Recursion.png\\\"}\"\u001b[00m\n",
      "\u001b[95m## Tool Output:\u001b[00m \u001b[92m\n",
      "The image presents a visual explanation of various algorithms for solving a problem likely related to finding pairs in an array that sum to a given value (k). It appears to compare three approaches:\n",
      "\n",
      "1. **Simple Brute Force**: This method evaluates all possible pairs in the array, leading to a high number of searches (represented as \\(2^{10}\\)).\n",
      "\n",
      "2. **Meet in the Middle**: This technique splits the array into two halves, computes possible sums for each half, and then checks for combinations. The number of searches here is significantly reduced to \\(2^5\\).\n",
      "\n",
      "3. **Mapping**: The diagram also illustrates how mapping can help whether a computed sum exists in a map (hash table) for quicker lookups.\n",
      "\n",
      "The structure showcases combinations of elements, checks for existence in the map, and general performance comparisons of the approaches.\u001b[00m\n",
      "\n",
      "\n",
      "\u001b[1m\u001b[95m# Agent:\u001b[00m \u001b[1m\u001b[92mimgExtracter\u001b[00m\n",
      "\u001b[95m## Final Answer:\u001b[00m \u001b[92m\n",
      "1. **Simple Brute Force**: \n",
      "   - Evaluates all possible pairs in the array.\n",
      "   - Number of searches: \\(2^{10}\\).\n",
      "\n",
      "2. **Meet in the Middle**: \n",
      "   - Splits the array into two halves, computes possible sums for each half, and checks for combinations.\n",
      "   - Number of searches: \\(2^5\\).\n",
      "\n",
      "3. **Mapping**: \n",
      "   - Uses a map (hash table) for quicker lookups to determine if a computed sum exists.\n",
      "\n",
      "The image compares performance differences among the three approaches to solving the problem of finding pairs in an array that sum to a given value (k).\u001b[00m\n",
      "\n",
      "\n"
     ]
    }
   ],
   "source": [
    "from crewai import Crew\n",
    "\n",
    "agent = Agents()\n",
    "tasks = Tasks()\n",
    "\n",
    "imgExtracter = agent.imgExtracter()\n",
    "\n",
    "imgExtracter_task = tasks.imgExtract(imgExtracter)\n",
    "\n",
    "crew = Crew(\n",
    "    agents=[\n",
    "        imgExtracter,\n",
    "    ],\n",
    "    tasks=[\n",
    "        imgExtracter_task,\n",
    "    ],\n",
    "    verbose=True,\n",
    ")\n",
    "\n",
    "result = crew.kickoff(\n",
    "    dict(\n",
    "        img_path=\"./Algorithm/Reference/Array Reference/MITM Recursion Ref/MITM Recursion.png\"\n",
    "    )\n",
    ")"
   ]
  }
 ],
 "metadata": {
  "kernelspec": {
   "display_name": "env",
   "language": "python",
   "name": "python3"
  },
  "language_info": {
   "codemirror_mode": {
    "name": "ipython",
    "version": 3
   },
   "file_extension": ".py",
   "mimetype": "text/x-python",
   "name": "python",
   "nbconvert_exporter": "python",
   "pygments_lexer": "ipython3",
   "version": "3.12.3"
  }
 },
 "nbformat": 4,
 "nbformat_minor": 2
}
